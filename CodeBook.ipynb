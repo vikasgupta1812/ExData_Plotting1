{
 "cells": [
  {
   "cell_type": "markdown",
   "metadata": {},
   "source": [
    "Title\n",
    "========================================================"
   ]
  },
  {
   "cell_type": "code",
   "execution_count": null,
   "metadata": {},
   "outputs": [],
   "source": [
    "%%R\n",
    "getwd()"
   ]
  },
  {
   "cell_type": "markdown",
   "metadata": {},
   "source": [
    "Download the file"
   ]
  },
  {
   "cell_type": "code",
   "execution_count": null,
   "metadata": {},
   "outputs": [],
   "source": [
    "%%R\n",
    "fileUrl <- \"https://d396qusza40orc.cloudfront.net/exdata%2Fdata%2Fhousehold_power_consumption.zip\"\n",
    "\n",
    "if (!file.exists(\"Dataset.zip\")) {\n",
    "    download.file(fileUrl, destfile = \"Dataset.zip\", method = \"wget\")\n",
    "}"
   ]
  },
  {
   "cell_type": "markdown",
   "metadata": {},
   "source": [
    "Unzip the file."
   ]
  },
  {
   "cell_type": "code",
   "execution_count": null,
   "metadata": {},
   "outputs": [],
   "source": [
    "%%R\n",
    "if (!file.exists(\"household_power_consumption.txt\")) {\n",
    "    unzip(\"Dataset.zip\", overwrite = TRUE)\n",
    "}"
   ]
  },
  {
   "cell_type": "code",
   "execution_count": null,
   "metadata": {},
   "outputs": [],
   "source": [
    "%%R\n",
    "rm(list=ls())"
   ]
  },
  {
   "cell_type": "markdown",
   "metadata": {},
   "source": [
    "Load Partial\\Complete file"
   ]
  },
  {
   "cell_type": "code",
   "execution_count": null,
   "metadata": {},
   "outputs": [],
   "source": [
    "%%R\n",
    "#df  <-  read.table('household_power_consumption.txt',header=T,sep=\";\",na.strings=\"?\",nrows=10)\n",
    "df  <-  read.table('household_power_consumption.txt',header=T,sep=\";\",na.strings=\"?\")"
   ]
  },
  {
   "cell_type": "code",
   "execution_count": null,
   "metadata": {},
   "outputs": [],
   "source": [
    "%%R\n",
    "colnames(df)"
   ]
  },
  {
   "cell_type": "markdown",
   "metadata": {},
   "source": [
    "Convert date  to date classes using as.Date() function"
   ]
  },
  {
   "cell_type": "code",
   "execution_count": null,
   "metadata": {},
   "outputs": [],
   "source": [
    "%%R\n",
    "#df$Date; as.Date(df$Date,\"%d/%m/%Y\"); class(df$Date)\n",
    "df$Date  <- as.Date(df$Date,\"%d/%m/%Y\"); class(df$Date)"
   ]
  },
  {
   "cell_type": "markdown",
   "metadata": {},
   "source": [
    "dates for which the data is needed  2007-02-01 and 2007-02-02"
   ]
  },
  {
   "cell_type": "code",
   "execution_count": null,
   "metadata": {},
   "outputs": [],
   "source": [
    "%%R\n",
    "dates  <- c(\"2007-02-01\",\"2007-02-02\")\n",
    "dates  <- as.Date(dates);dates"
   ]
  },
  {
   "cell_type": "code",
   "execution_count": null,
   "metadata": {},
   "outputs": [],
   "source": [
    "%%R\n",
    "identical((\"2007-02-02\"),as.character(as.Date(\"2007-02-02\")))"
   ]
  },
  {
   "cell_type": "markdown",
   "metadata": {},
   "source": [
    "Take Subset of the dataset"
   ]
  },
  {
   "cell_type": "code",
   "execution_count": null,
   "metadata": {},
   "outputs": [],
   "source": [
    "%%R\n",
    "df1  <- subset(df,Date %in% dates)\n",
    "#rm(df)"
   ]
  },
  {
   "cell_type": "code",
   "execution_count": null,
   "metadata": {},
   "outputs": [],
   "source": [
    "%%R\n",
    "df1 <- within(df1, Datetime <- strptime(paste(as.character(df1$Date), df1$Time), format=\"%Y-%m-%d %H:%M:%S\"));head(df1)\n",
    "\n",
    "#paste(as.character(df$Date), df$Time)[1:10]\n",
    "#strptime(\"2006-12-16 17:24:00\", format = \"%Y-%m-%d %H:%M:%S\")"
   ]
  },
  {
   "cell_type": "code",
   "execution_count": null,
   "metadata": {},
   "outputs": [],
   "source": [
    "%%R\n",
    "df1[,c(1,3)]\n",
    "plot(df1[,3])\n",
    "\n",
    "hist(df1[,3],col = \"red\")"
   ]
  },
  {
   "cell_type": "markdown",
   "metadata": {},
   "source": [
    "Graph 2"
   ]
  },
  {
   "cell_type": "code",
   "execution_count": null,
   "metadata": {},
   "outputs": [],
   "source": [
    "%%R\n",
    "plot(as.factor(df1$Datetime$wday),df1$Global_active_power,type = \"b\" )"
   ]
  },
  {
   "cell_type": "code",
   "execution_count": null,
   "metadata": {},
   "outputs": [],
   "source": [
    "%%R\n",
    "?hist"
   ]
  },
  {
   "cell_type": "markdown",
   "metadata": {},
   "source": [
    "===============================================================================================================================\n",
    "Get the values"
   ]
  },
  {
   "cell_type": "code",
   "execution_count": null,
   "metadata": {},
   "outputs": [],
   "source": [
    "%%R\n",
    "#unlist(unclass(df$Date))"
   ]
  },
  {
   "cell_type": "markdown",
   "metadata": {},
   "source": [
    "http://stackoverflow.com/a/10708074/2356016\n",
    "Works!!!"
   ]
  },
  {
   "cell_type": "code",
   "execution_count": null,
   "metadata": {},
   "outputs": [],
   "source": [
    "%%R\n",
    "rm(dt)\n",
    "dt  <- strptime(\"16/12/2006 17:24:00\", format=\"%d/%m/%Y %H:%M:%S\")\n",
    "dt\n",
    "class(dt)\n",
    "names(dt)\n",
    "unlist(unclass(dt))"
   ]
  },
  {
   "cell_type": "code",
   "execution_count": null,
   "metadata": {},
   "outputs": [],
   "source": [
    "%%R\n",
    "dt  <- as.POSIXlt(\"16/12/2006 17:24:00\", format=\"%d/%m/%Y %H:%M:%S\")\n",
    "rm(dt)\n",
    "dt  <- as.POSIXlt(\"16/12/2006 17:24:00\", format=\"%d/%m/%Y\");dt\n",
    "\n",
    "\n",
    "\n",
    "class(dt)\n",
    "names(dt)"
   ]
  },
  {
   "cell_type": "code",
   "execution_count": null,
   "metadata": {},
   "outputs": [],
   "source": [
    "%%R\n",
    "paste(df$Date, df$Time)"
   ]
  },
  {
   "cell_type": "code",
   "execution_count": null,
   "metadata": {},
   "outputs": [],
   "source": [
    "%%R\n",
    "strptime(paste(df$Date, df$Time), format=\"%d/%m/%Y %H:%M:%S\")"
   ]
  },
  {
   "cell_type": "markdown",
   "metadata": {},
   "source": [
    "http://stackoverflow.com/a/5251189/2356016"
   ]
  },
  {
   "cell_type": "code",
   "execution_count": null,
   "metadata": {},
   "outputs": [],
   "source": [
    "%%R\n",
    "df <- within(df, Datetime <- strptime(paste(df$Date, df$Time), format=\"%d/%m/%Y %H:%M:%S\"))"
   ]
  },
  {
   "cell_type": "markdown",
   "metadata": {},
   "source": [
    "http://stats.stackexchange.com/q/3997"
   ]
  },
  {
   "cell_type": "code",
   "execution_count": null,
   "metadata": {},
   "outputs": [],
   "source": [
    "%%R\n",
    "#names(df$Datetime)\n",
    "unlist(unclass(df$Datetime))"
   ]
  },
  {
   "cell_type": "code",
   "execution_count": null,
   "metadata": {},
   "outputs": [],
   "source": [
    "%%R\n",
    "df$Datetime"
   ]
  },
  {
   "cell_type": "code",
   "execution_count": null,
   "metadata": {},
   "outputs": [],
   "source": [
    "%%R\n",
    "df$Datetime$year "
   ]
  },
  {
   "cell_type": "code",
   "execution_count": null,
   "metadata": {},
   "outputs": [],
   "source": [
    "%%R\n",
    "df$Datetime$year == 106 # Since 1990"
   ]
  },
  {
   "cell_type": "markdown",
   "metadata": {},
   "source": [
    "You can also embed plots, for example:"
   ]
  },
  {
   "cell_type": "code",
   "execution_count": null,
   "metadata": {},
   "outputs": [],
   "source": [
    "%%R\n",
    "plot(cars)"
   ]
  },
  {
   "cell_type": "code",
   "execution_count": null,
   "metadata": {},
   "outputs": [],
   "source": [
    "%%R\n",
    "z  <-  Sys.time()\n",
    "z\n",
    "class(z)\n",
    "y  <- as.POSIXlt(z)\n",
    "y  <- as.POSIXlt.Date(z)\n",
    "y  <- as.POSIXlt.date(z)\n",
    "y  <- as.POSIXlt.POSIXct(z)\n",
    "y\n",
    "class(y)\n",
    "names(y)"
   ]
  }
 ],
 "metadata": {},
 "nbformat": 4,
 "nbformat_minor": 2
}
